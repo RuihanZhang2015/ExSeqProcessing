{
 "cells": [
  {
   "cell_type": "markdown",
   "metadata": {},
   "source": [
    "# Performance measurement in ExSeqProcessing (ver.1.7.2)"
   ]
  },
  {
   "cell_type": "code",
   "execution_count": null,
   "metadata": {},
   "outputs": [],
   "source": [
    "import numpy as np\n",
    "import pandas as pd\n",
    "import matplotlib.pyplot as plt\n",
    "%matplotlib inline\n",
    "\n",
    "import os\n",
    "import subprocess\n",
    "import re\n",
    "from datetime import datetime, timedelta\n",
    "from IPython.display import display\n",
    "\n",
    "pd.set_option('float_format', '{:f}'.format)"
   ]
  },
  {
   "cell_type": "markdown",
   "metadata": {},
   "source": [
    "## top log"
   ]
  },
  {
   "cell_type": "code",
   "execution_count": null,
   "metadata": {},
   "outputs": [],
   "source": [
    "proc_stat = pd.read_csv('summary-top-proc-status.csv',parse_dates=[0])\n",
    "mem_stat = pd.read_csv('summary-top-mem-usage.csv',parse_dates=[0])"
   ]
  },
  {
   "cell_type": "code",
   "execution_count": null,
   "metadata": {},
   "outputs": [],
   "source": [
    "proc_stat['elapsed_time'] = pd.to_timedelta(proc_stat['elapsed_time'])\n",
    "proc_stat['elapsed_time_m'] = proc_stat['elapsed_time'] / timedelta(minutes=1)\n",
    "proc_stat['proc'] = proc_stat['proc'].str.rstrip()\n",
    "\n",
    "mem_stat['elapsed_time'] = pd.to_timedelta(mem_stat['elapsed_time'])\n",
    "mem_stat['elapsed_time_m'] = mem_stat['elapsed_time'] / timedelta(minutes=1)"
   ]
  },
  {
   "cell_type": "code",
   "execution_count": null,
   "metadata": {},
   "outputs": [],
   "source": [
    "mem_unit = mem_stat['mem_unit'].unique()[0]"
   ]
  },
  {
   "cell_type": "markdown",
   "metadata": {},
   "source": [
    "### System memory status"
   ]
  },
  {
   "cell_type": "code",
   "execution_count": null,
   "metadata": {
    "scrolled": false
   },
   "outputs": [],
   "source": [
    "fig = mem_stat.plot(x='elapsed_time_m',y=['mem_used','buf_cache','avail_mem'],figsize=(10,5))\n",
    "fig.set_xlabel('Elapsed time (min)')\n",
    "fig.set_ylabel('Memory usage (%s)' % mem_unit)"
   ]
  },
  {
   "cell_type": "markdown",
   "metadata": {},
   "source": [
    "### MATLAB processes memory status"
   ]
  },
  {
   "cell_type": "code",
   "execution_count": null,
   "metadata": {},
   "outputs": [],
   "source": [
    "fig = proc_stat.pivot_table(index='elapsed_time_m',values=['res','virt'],aggfunc=sum).plot(figsize=(10,5))\n",
    "fig.set_xlabel('Elapsed time (min)')\n",
    "fig.set_ylabel('Memory usage (MiB)')"
   ]
  },
  {
   "cell_type": "code",
   "execution_count": null,
   "metadata": {},
   "outputs": [],
   "source": [
    "proc_stat.pivot_table(index='elapsed_time',values=['res','virt'],aggfunc=sum).describe()"
   ]
  },
  {
   "cell_type": "code",
   "execution_count": null,
   "metadata": {
    "scrolled": false
   },
   "outputs": [],
   "source": [
    "fig = proc_stat.pivot_table(index='elapsed_time_m',columns=['proc'],values=['res'],aggfunc=sum).plot(figsize=(10,5))\n",
    "fig.set_xlabel('Elapsed time (min)')\n",
    "fig.set_ylabel('Memory usage (MiB)')"
   ]
  },
  {
   "cell_type": "code",
   "execution_count": null,
   "metadata": {},
   "outputs": [],
   "source": [
    "expected_memory_usage_line = False\n",
    "if expected_memory_usage_line:\n",
    "    proc_stat['expected memory usage'] = 8310.9\n",
    "    proc_stat.loc[proc_stat['elapsed_time_m']>2.5,'expected memory usage'] = 1738.9"
   ]
  },
  {
   "cell_type": "code",
   "execution_count": null,
   "metadata": {},
   "outputs": [],
   "source": [
    "tbl = proc_stat[proc_stat['proc'] == 'worker'].pivot_table(index='elapsed_time_m',columns=['pid'],values=['res'],aggfunc=sum)\n",
    "tbl[tbl.isna()] = 0\n",
    "fig = tbl.plot(figsize=(10,5))\n",
    "\n",
    "if expected_memory_usage_line:\n",
    "    proc_stat.plot(x='elapsed_time_m',y='expected memory usage',style=':',ax=fig)\n",
    "\n",
    "fig.set_xlabel('Elapsed time (min)')\n",
    "fig.set_ylabel('Memory usage (MiB)')\n",
    "fig.legend(loc='upper left',bbox_to_anchor=(1.02,0.5,0.5,0.5),ncol=2,borderaxespad=0.1)"
   ]
  },
  {
   "cell_type": "markdown",
   "metadata": {},
   "source": [
    "### MATLAB processes cpu and memory usage (%)"
   ]
  },
  {
   "cell_type": "code",
   "execution_count": null,
   "metadata": {
    "scrolled": false
   },
   "outputs": [],
   "source": [
    "proc_usage = proc_stat.pivot_table(index='elapsed_time_m',values=['cpu'],aggfunc=sum)\n",
    "fig = proc_usage.plot(alpha=0.5,figsize=(10,5))\n",
    "proc_usage.rolling(window=12,center=True).mean().plot(ax=fig)\n",
    "fig.set_title('CPU usage of all MATLAB processes')\n",
    "fig.set_xlabel('Elapsed time (min)')\n",
    "fig.set_ylabel('CPU usage (%)')\n",
    "fig.legend(['cpu','SMA cpu'])\n",
    "\n",
    "proc_usage = proc_stat.pivot_table(index='elapsed_time_m',values=['mem'],aggfunc=sum)\n",
    "fig = proc_usage.plot(alpha=0.5,figsize=(10,5))\n",
    "proc_usage.rolling(window=12,center=True).mean().plot(ax=fig)\n",
    "fig.set_title('Memory usage of all MATLAB processes')\n",
    "fig.set_xlabel('Elapsed time (min)')\n",
    "fig.set_ylabel('Memory usage (%)')\n",
    "fig.legend(['mem','SMA mem'])"
   ]
  },
  {
   "cell_type": "code",
   "execution_count": null,
   "metadata": {
    "scrolled": false
   },
   "outputs": [],
   "source": [
    "proc_usage_worker = proc_stat[proc_stat['proc'] == 'worker'].pivot_table(index='elapsed_time_m',values=['cpu'],aggfunc=sum)\n",
    "fig = proc_usage_worker.plot(y=['cpu'],alpha=0.5,figsize=(10,5))\n",
    "proc_usage_worker.rolling(window=12,center=True).mean().plot(ax=fig)\n",
    "fig.set_title('CPU usage of MATLAB worker processes')\n",
    "fig.set_xlabel('Elapsed time (min)')\n",
    "fig.set_ylabel('CPU usage (%)')\n",
    "fig.legend(['cpu','SMA cpu'])\n",
    "\n",
    "proc_usage_main = proc_stat[proc_stat['proc'] == 'main'].pivot_table(index='elapsed_time_m',values=['cpu'],aggfunc=sum)\n",
    "fig = proc_usage_main.plot(y=['cpu'],alpha=0.5,figsize=(10,5))\n",
    "proc_usage_main.rolling(window=12,center=True).mean().plot(ax=fig)\n",
    "fig.set_title('CPU usage of MATLAB main process')\n",
    "fig.set_xlabel('Elapsed time (min)')\n",
    "fig.set_ylabel('CPU usage (%)')\n",
    "fig.legend(['cpu','SMA cpu'])\n",
    "\n",
    "proc_usage_worker = proc_stat[proc_stat['proc'] == 'worker'].pivot_table(index='elapsed_time_m',values=['mem'],aggfunc=sum)\n",
    "fig = proc_usage_worker.plot(y=['mem'],alpha=0.5,figsize=(10,5))\n",
    "proc_usage_worker.rolling(window=12,center=True).mean().plot(ax=fig)\n",
    "fig.set_title('Memory usage of MATLAB worker processes')\n",
    "fig.set_xlabel('Elapsed time (min)')\n",
    "fig.set_ylabel('Memory usage (%)')\n",
    "fig.legend(['mem','SMA mem'])\n",
    "\n",
    "proc_usage_main = proc_stat[proc_stat['proc'] == 'main'].pivot_table(index='elapsed_time_m',values=['mem'],aggfunc=sum)\n",
    "fig = proc_usage_main.plot(y=['mem'],alpha=0.5,figsize=(10,5))\n",
    "proc_usage_main.rolling(window=12,center=True).mean().plot(ax=fig)\n",
    "fig.set_title('Memory usage of MATLAB main process')\n",
    "fig.set_xlabel('Elapsed time (min)')\n",
    "fig.set_ylabel('Memory usage (%)')\n",
    "fig.legend(['mem','SMA mem'])"
   ]
  },
  {
   "cell_type": "code",
   "execution_count": null,
   "metadata": {},
   "outputs": [],
   "source": [
    "proc_stat.pivot_table(index='elapsed_time',values=['cpu','mem'],aggfunc=sum).describe()"
   ]
  },
  {
   "cell_type": "markdown",
   "metadata": {},
   "source": [
    "## nfsiostat log"
   ]
  },
  {
   "cell_type": "code",
   "execution_count": null,
   "metadata": {},
   "outputs": [],
   "source": [
    "try:\n",
    "    nfs_stat = pd.read_csv('summary-nfsiostat.csv',parse_dates=[0])\n",
    "    nfs_stat['time'] = pd.to_timedelta(nfs_stat['time'])\n",
    "    nfs_stat['time_m'] = nfs_stat['time'] / timedelta(minutes=1)\n",
    "except:\n",
    "    print('WARNING: command \"nfsiostat\" cannot be used.')"
   ]
  },
  {
   "cell_type": "markdown",
   "metadata": {},
   "source": [
    "### read/write throughput (kb/s)"
   ]
  },
  {
   "cell_type": "code",
   "execution_count": null,
   "metadata": {
    "scrolled": false
   },
   "outputs": [],
   "source": [
    "try:\n",
    "    fig = nfs_stat[nfs_stat['fs-path']=='/mp/nas1'].pivot_table(index='time_m',values=['read-kb/s','write-kb/s']).plot(alpha=0.5,figsize=(10,5))\n",
    "    fig.set_xlabel('Elapsed time (min)')\n",
    "    fig.set_ylabel('read/write (kb/s)')\n",
    "except:\n",
    "    print('WARNING: command \"nfsiostat\" cannot be used.')"
   ]
  },
  {
   "cell_type": "code",
   "execution_count": null,
   "metadata": {},
   "outputs": [],
   "source": [
    "try:\n",
    "    dsc = nfs_stat[nfs_stat['fs-path']=='/mp/nas1'].pivot_table(index='time',values=['read-kb/s','write-kb/s'],aggfunc=sum).describe()\n",
    "except:\n",
    "    dsc = None\n",
    "    print('WARNING: command \"nfsiostat\" cannot be used.')\n",
    "dsc"
   ]
  },
  {
   "cell_type": "markdown",
   "metadata": {},
   "source": [
    "### pages in readpages/writepages"
   ]
  },
  {
   "cell_type": "code",
   "execution_count": null,
   "metadata": {},
   "outputs": [],
   "source": [
    "try:\n",
    "    fig = nfs_stat[nfs_stat['fs-path']=='/mp/nas1'].pivot_table(index='time_m',values=['pages-in-readpages','pages-in-writepages']).plot(alpha=0.5,figsize=(10,5))\n",
    "    fig.set_xlabel('Elapsed time (min)')\n",
    "    fig.set_ylabel('pages')\n",
    "except:\n",
    "    print('WARNING: command \"nfsiostat\" cannot be used.')"
   ]
  },
  {
   "cell_type": "markdown",
   "metadata": {},
   "source": [
    "## vmstat log"
   ]
  },
  {
   "cell_type": "code",
   "execution_count": null,
   "metadata": {},
   "outputs": [],
   "source": [
    "vm_stat = pd.read_csv('summary-vmstat.csv',parse_dates=[0])"
   ]
  },
  {
   "cell_type": "code",
   "execution_count": null,
   "metadata": {},
   "outputs": [],
   "source": [
    "vm_stat['time'] = pd.to_timedelta(vm_stat['time'])\n",
    "vm_stat['time_m'] = vm_stat['time'] / timedelta(minutes=1)"
   ]
  },
  {
   "cell_type": "markdown",
   "metadata": {},
   "source": [
    "### block i/o"
   ]
  },
  {
   "cell_type": "code",
   "execution_count": null,
   "metadata": {
    "scrolled": false
   },
   "outputs": [],
   "source": [
    "vm_bio = vm_stat.pivot_table(index='time_m',values=['io-bi','io-bo'])\n",
    "fig = vm_bio.plot(alpha=0.5,figsize=(10,5))\n",
    "vm_bio.rolling(window=12,center=True).mean().plot(ax=fig)\n",
    "fig.set_xlabel('Elapsed time (min)')\n",
    "fig.set_ylabel('blocks/s')\n",
    "fig.legend(['io-bi','io-bo','SMA io-bi','SMA io-bo'])"
   ]
  },
  {
   "cell_type": "code",
   "execution_count": null,
   "metadata": {},
   "outputs": [],
   "source": [
    "vm_stat.pivot_table(index='time',values=['io-bi','io-bo']).describe()"
   ]
  },
  {
   "cell_type": "markdown",
   "metadata": {},
   "source": [
    "### cpu status"
   ]
  },
  {
   "cell_type": "code",
   "execution_count": null,
   "metadata": {
    "scrolled": false
   },
   "outputs": [],
   "source": [
    "fig = vm_stat.pivot_table(index='time_m',values=['cpu-us','cpu-sy','cpu-id','cpu-wa','cpu-st']).plot(alpha=0.5,figsize=(10,5))\n",
    "fig.set_xlabel('Elapsed time (min)')\n",
    "fig.set_ylabel('CPU usage (%)')"
   ]
  },
  {
   "cell_type": "code",
   "execution_count": null,
   "metadata": {
    "scrolled": true
   },
   "outputs": [],
   "source": [
    "vm_stat.pivot_table(index='time',values=['cpu-us','cpu-sy','cpu-id','cpu-wa','cpu-st']).describe()"
   ]
  },
  {
   "cell_type": "markdown",
   "metadata": {},
   "source": [
    "## iostat log"
   ]
  },
  {
   "cell_type": "code",
   "execution_count": null,
   "metadata": {},
   "outputs": [],
   "source": [
    "try:\n",
    "    io_stat = pd.read_csv('summary-iostat.csv',parse_dates=[0])\n",
    "    io_stat['time'] = pd.to_timedelta(io_stat['time'])\n",
    "    io_stat['time_m'] = io_stat['time'] / timedelta(minutes=1)\n",
    "except:\n",
    "    print('WARNING: command \"iostat\" cannot be used.')"
   ]
  },
  {
   "cell_type": "code",
   "execution_count": null,
   "metadata": {},
   "outputs": [],
   "source": [
    "try:\n",
    "    comp_disk = re.compile('^([a-z][^ ]*) .* disk')\n",
    "    comp_dir = re.compile('(/mp/.*)$')\n",
    "\n",
    "    dev_dir_map = {}\n",
    "    try:\n",
    "        for line in open('lsblk.txt'):\n",
    "            line = line.rstrip()\n",
    "            if line.startswith('NAME'):\n",
    "                continue\n",
    "        #    print(line)\n",
    "\n",
    "            m = comp_disk.search(line)\n",
    "            if m != None:\n",
    "                dev_name = m.group(1)\n",
    "        #        print(dev_name)\n",
    "                continue\n",
    "\n",
    "            m = comp_dir.search(line)\n",
    "            if m != None:\n",
    "                dir_name = m.group(1)\n",
    "                dev_dir_map[dev_name] = dir_name\n",
    "    except:\n",
    "        print('WARNING: command \"lsblk\" cannot be used.')\n",
    "except:\n",
    "    print('WARNING: command \"iostat\" cannot be used.')"
   ]
  },
  {
   "cell_type": "code",
   "execution_count": null,
   "metadata": {
    "scrolled": true
   },
   "outputs": [],
   "source": [
    "try:\n",
    "    dev_list = io_stat[~io_stat['device'].str.contains('dm-')]['device'].unique()\n",
    "    mp_list = [dev_dir_map[str] if str in dev_dir_map else str for str in dev_list]\n",
    "    dev_mp_map = dict(zip(dev_list,mp_list))\n",
    "\n",
    "    io_stat['device'].replace(dev_mp_map,inplace=True)\n",
    "    print(dev_mp_map)\n",
    "except:\n",
    "    print('WARNING: command \"iostat\" cannot be used.')"
   ]
  },
  {
   "cell_type": "markdown",
   "metadata": {},
   "source": [
    "### device read/write (kB/s)"
   ]
  },
  {
   "cell_type": "code",
   "execution_count": null,
   "metadata": {},
   "outputs": [],
   "source": [
    "try:\n",
    "    for d in np.unique(mp_list):\n",
    "        dev_rw = io_stat[io_stat['device'] == d].pivot_table(index=['time_m'],values=['rkB/s','wkB/s'],aggfunc=sum)\n",
    "        dev_rw_sum = dev_rw[:].sum()\n",
    "        if dev_rw_sum['rkB/s'] == 0 and dev_rw_sum['wkB/s'] == 0:\n",
    "            continue\n",
    "\n",
    "        fig = dev_rw.plot(alpha=0.5,figsize=(10,5))\n",
    "        dev_rw.rolling(window=12,center=True).mean().plot(ax=fig)\n",
    "        fig.set_title('device='+d)\n",
    "        fig.set_xlabel('Elapsed time (min)')\n",
    "        fig.set_ylabel('kB/s')\n",
    "        fig.legend(['rkB/s','wkB/s','SMA rkB/s','SMA wkB/s'])\n",
    "except:\n",
    "    print('WARNING: command \"iostat\" cannot be used.')"
   ]
  },
  {
   "cell_type": "code",
   "execution_count": null,
   "metadata": {},
   "outputs": [],
   "source": [
    "try:\n",
    "    dev_rw = io_stat[io_stat['device'].isin(mp_list)].pivot_table(index=['time'],columns=['device'],values=['rkB/s','wkB/s'],aggfunc=sum)\n",
    "    dsc = dev_rw.describe()\n",
    "except:\n",
    "    dsc = None\n",
    "    print('WARNING: command \"iostat\" cannot be used.')\n",
    "    \n",
    "dsc"
   ]
  },
  {
   "cell_type": "markdown",
   "metadata": {},
   "source": [
    "### device util (%)"
   ]
  },
  {
   "cell_type": "code",
   "execution_count": null,
   "metadata": {},
   "outputs": [],
   "source": [
    "try:\n",
    "    for d in np.unique(mp_list):\n",
    "        dev_util = io_stat[io_stat['device'] == d].pivot_table(index=['time_m'],values=['%util'],aggfunc=sum)\n",
    "        dev_util_sum = dev_util[:].sum()\n",
    "        if dev_util_sum['%util'] == 0:\n",
    "            continue\n",
    "\n",
    "        fig = dev_util.plot(alpha=0.5,figsize=(10,5))\n",
    "        dev_util.rolling(window=12,center=True).mean().plot(ax=fig)\n",
    "        fig.set_title('device='+d)\n",
    "        fig.set_xlabel('Elapsed time (min)')\n",
    "        fig.set_ylabel('util (%)')\n",
    "        fig.legend(['%util','SMA %util'])\n",
    "except:\n",
    "    print('WARNING: command \"iostat\" cannot be used.')"
   ]
  },
  {
   "cell_type": "code",
   "execution_count": null,
   "metadata": {},
   "outputs": [],
   "source": [
    "try:\n",
    "    dev_util = io_stat[io_stat['device'].isin(mp_list)].pivot_table(index=['time'],columns=['device'],values=['%util'],aggfunc=sum)\n",
    "    dsc = dev_util.describe()\n",
    "except:\n",
    "    dsc = None\n",
    "    print('WARNING: command \"iostat\" cannot be used.')\n",
    "    \n",
    "dsc"
   ]
  },
  {
   "cell_type": "markdown",
   "metadata": {
    "collapsed": true
   },
   "source": [
    "## gpu log"
   ]
  },
  {
   "cell_type": "code",
   "execution_count": null,
   "metadata": {},
   "outputs": [],
   "source": [
    "try:\n",
    "    gpu_stat = pd.read_csv('summary-gpu.csv',parse_dates=[0])\n",
    "    gpu_stat['time'] = pd.to_timedelta(gpu_stat['time'])\n",
    "    gpu_stat['time_m'] = gpu_stat['time'] / timedelta(minutes=1)\n",
    "except:\n",
    "    print('WARNING: command \"nvidia-smi\" cannot be used.')"
   ]
  },
  {
   "cell_type": "code",
   "execution_count": null,
   "metadata": {
    "scrolled": false
   },
   "outputs": [],
   "source": [
    "try:\n",
    "    gpu_util = gpu_stat.pivot_table(index='time_m',values=['utilization.gpu [%]','utilization.memory [%]'],aggfunc=sum)\n",
    "    fig = gpu_util.plot(alpha=0.5,figsize=(10,5))\n",
    "    gpu_util.rolling(window=10,center=True).mean().plot(ax=fig)\n",
    "    fig.set_xlabel('Elapsed time (min)')\n",
    "    fig.set_ylabel('util (%)')\n",
    "    fig.legend(['gpu','gpu memory','SMA gpu','SMA gpu memory'])\n",
    "    \n",
    "    gpu_util_each = gpu_stat.pivot_table(index=['time_m'],columns=['index'],values=['utilization.gpu [%]','utilization.memory [%]']).fillna(0.0)\n",
    "    fig = gpu_util_each.plot(alpha=0.5,figsize=(10,5))\n",
    "    fig.set_xlabel('Elapsed time (min)')\n",
    "    fig.set_ylabel('util (%)')\n",
    "except:\n",
    "    print('WARNING: command \"nvidia-smi\" cannot be used.')"
   ]
  },
  {
   "cell_type": "code",
   "execution_count": null,
   "metadata": {},
   "outputs": [],
   "source": [
    "try:\n",
    "    gpu_util = gpu_stat.pivot_table(index='time',values=['utilization.gpu [%]','utilization.memory [%]'],aggfunc=sum)\n",
    "    dsc = display(gpu_util.describe())\n",
    "except:\n",
    "    dsc = None\n",
    "    print('WARNING: command \"nvidia-smi\" cannot be used.')\n",
    "    \n",
    "dsc"
   ]
  },
  {
   "cell_type": "markdown",
   "metadata": {
    "collapsed": true
   },
   "source": [
    "## Summary"
   ]
  },
  {
   "cell_type": "code",
   "execution_count": null,
   "metadata": {},
   "outputs": [],
   "source": [
    "ds1 = proc_stat.pivot_table(index='elapsed_time',values=['cpu','mem'],aggfunc=sum).describe()\n",
    "\n",
    "try:\n",
    "    ds2 = gpu_stat.pivot_table(index='time',values=['utilization.gpu [%]'],aggfunc=sum).describe()\n",
    "    ds = pd.concat([ds1, ds2],axis=1)\n",
    "    print(ds.loc[['mean','max'],['mem','cpu','utilization.gpu [%]']])\n",
    "except:\n",
    "    ds = ds1\n",
    "    print(ds.loc[['mean','max'],['mem','cpu']])\n",
    "    \n",
    "print(' ')\n",
    "\n",
    "try:\n",
    "    dev_ds = io_stat[io_stat['device'].isin(mp_list)].pivot_table(index=['time'],columns=['device'],values=['rkB/s','wkB/s','%util'],aggfunc=sum).describe()\n",
    "    print(dev_ds.loc[['mean','max'],['rkB/s','wkB/s']])\n",
    "    print(dev_ds.loc[['mean','max'],['%util']])\n",
    "except:\n",
    "    pass"
   ]
  },
  {
   "cell_type": "code",
   "execution_count": null,
   "metadata": {},
   "outputs": [],
   "source": []
  }
 ],
 "metadata": {
  "kernelspec": {
   "display_name": "Python 3",
   "language": "python",
   "name": "python3"
  },
  "language_info": {
   "codemirror_mode": {
    "name": "ipython",
    "version": 3
   },
   "file_extension": ".py",
   "mimetype": "text/x-python",
   "name": "python",
   "nbconvert_exporter": "python",
   "pygments_lexer": "ipython3",
   "version": "3.7.0"
  }
 },
 "nbformat": 4,
 "nbformat_minor": 2
}
