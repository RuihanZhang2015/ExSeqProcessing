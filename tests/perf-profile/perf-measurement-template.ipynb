{
 "cells": [
  {
   "cell_type": "markdown",
   "metadata": {},
   "source": [
    "# Performance measurement in ExSeqProcessing (ver.1.4)"
   ]
  },
  {
   "cell_type": "code",
   "execution_count": null,
   "metadata": {
    "collapsed": true
   },
   "outputs": [],
   "source": [
    "import numpy as np\n",
    "import pandas as pd\n",
    "import matplotlib.pyplot as plt\n",
    "%matplotlib inline\n",
    "\n",
    "import os\n",
    "from IPython.display import display\n",
    "\n",
    "pd.set_option('float_format', '{:f}'.format)"
   ]
  },
  {
   "cell_type": "markdown",
   "metadata": {},
   "source": [
    "## top log"
   ]
  },
  {
   "cell_type": "code",
   "execution_count": null,
   "metadata": {
    "collapsed": true
   },
   "outputs": [],
   "source": [
    "proc_stat = pd.read_csv('summary-top-proc-status.csv',parse_dates=[0])\n",
    "mem_stat = pd.read_csv('summary-top-mem-usage.csv',parse_dates=[0])"
   ]
  },
  {
   "cell_type": "code",
   "execution_count": null,
   "metadata": {
    "collapsed": true
   },
   "outputs": [],
   "source": [
    "proc_stat['elapsed_time'] = pd.to_timedelta(proc_stat['elapsed_time'])\n",
    "proc_stat['proc'] = proc_stat['proc'].str.rstrip()\n",
    "\n",
    "mem_stat['elapsed_time'] = pd.to_timedelta(mem_stat['elapsed_time'])"
   ]
  },
  {
   "cell_type": "markdown",
   "metadata": {},
   "source": [
    "### System memory status"
   ]
  },
  {
   "cell_type": "code",
   "execution_count": null,
   "metadata": {
    "scrolled": false
   },
   "outputs": [],
   "source": [
    "mem_stat.plot(x='elapsed_time',y=['mem_used','buf_cache','avail_mem'],figsize=(10,5))"
   ]
  },
  {
   "cell_type": "markdown",
   "metadata": {},
   "source": [
    "### MATLAB processes memory status"
   ]
  },
  {
   "cell_type": "code",
   "execution_count": null,
   "metadata": {},
   "outputs": [],
   "source": [
    "proc_stat.pivot_table(index='elapsed_time',values=['res','virt'],aggfunc=sum).plot(figsize=(10,5))"
   ]
  },
  {
   "cell_type": "code",
   "execution_count": null,
   "metadata": {},
   "outputs": [],
   "source": [
    "proc_stat.pivot_table(index='elapsed_time',values=['res','virt'],aggfunc=sum).describe()"
   ]
  },
  {
   "cell_type": "code",
   "execution_count": null,
   "metadata": {
    "scrolled": false
   },
   "outputs": [],
   "source": [
    "proc_stat.pivot_table(index='elapsed_time',columns=['proc'],values=['res'],aggfunc=sum).plot(figsize=(10,5))"
   ]
  },
  {
   "cell_type": "markdown",
   "metadata": {},
   "source": [
    "### MATLAB processes cpu and memory usage (%)"
   ]
  },
  {
   "cell_type": "code",
   "execution_count": null,
   "metadata": {
    "scrolled": false
   },
   "outputs": [],
   "source": [
    "proc_usage = proc_stat.pivot_table(index='elapsed_time',values=['cpu'],aggfunc=sum)\n",
    "fig = proc_usage.plot(alpha=0.5,figsize=(10,5))\n",
    "proc_usage.rolling(window=12,center=True).mean().plot(ax=fig)\n",
    "fig.set_title('CPU usage of all MATLAB processes')\n",
    "fig.set_ylabel('CPU usage (%)')\n",
    "fig.legend(['cpu','SMA cpu'])\n",
    "\n",
    "proc_usage = proc_stat.pivot_table(index='elapsed_time',values=['mem'],aggfunc=sum)\n",
    "fig = proc_usage.plot(alpha=0.5,figsize=(10,5))\n",
    "proc_usage.rolling(window=12,center=True).mean().plot(ax=fig)\n",
    "fig.set_title('Memory usage of all MATLAB processes')\n",
    "fig.set_ylabel('Memory usage (%)')\n",
    "fig.legend(['mem','SMA mem'])"
   ]
  },
  {
   "cell_type": "code",
   "execution_count": null,
   "metadata": {
    "scrolled": false
   },
   "outputs": [],
   "source": [
    "proc_usage_worker = proc_stat[proc_stat['proc'] == 'worker'].pivot_table(index='elapsed_time',values=['cpu'],aggfunc=sum)\n",
    "fig = proc_usage_worker.plot(y=['cpu'],alpha=0.5,figsize=(10,5))\n",
    "proc_usage_worker.rolling(window=12,center=True).mean().plot(ax=fig)\n",
    "fig.set_title('CPU usage of MATLAB worker processes')\n",
    "fig.set_ylabel('CPU usage (%)')\n",
    "fig.legend(['cpu','SMA cpu'])\n",
    "\n",
    "proc_usage_main = proc_stat[proc_stat['proc'] == 'main'].pivot_table(index='elapsed_time',values=['cpu'],aggfunc=sum)\n",
    "fig = proc_usage_main.plot(y=['cpu'],alpha=0.5,figsize=(10,5))\n",
    "proc_usage_main.rolling(window=12,center=True).mean().plot(ax=fig)\n",
    "fig.set_title('CPU usage of MATLAB main process')\n",
    "fig.set_ylabel('CPU usage (%)')\n",
    "fig.legend(['cpu','SMA cpu'])\n",
    "\n",
    "proc_usage_worker = proc_stat[proc_stat['proc'] == 'worker'].pivot_table(index='elapsed_time',values=['mem'],aggfunc=sum)\n",
    "fig = proc_usage_worker.plot(y=['mem'],alpha=0.5,figsize=(10,5))\n",
    "proc_usage_worker.rolling(window=12,center=True).mean().plot(ax=fig)\n",
    "fig.set_title('Memory usage of MATLAB worker processes')\n",
    "fig.set_ylabel('Memory usage (%)')\n",
    "fig.legend(['mem','SMA mem'])\n",
    "\n",
    "proc_usage_main = proc_stat[proc_stat['proc'] == 'main'].pivot_table(index='elapsed_time',values=['mem'],aggfunc=sum)\n",
    "fig = proc_usage_main.plot(y=['mem'],alpha=0.5,figsize=(10,5))\n",
    "proc_usage_main.rolling(window=12,center=True).mean().plot(ax=fig)\n",
    "fig.set_title('Memory usage of MATLAB main process')\n",
    "fig.set_ylabel('Memory usage (%)')\n",
    "fig.legend(['mem','SMA mem'])"
   ]
  },
  {
   "cell_type": "code",
   "execution_count": null,
   "metadata": {},
   "outputs": [],
   "source": [
    "proc_stat.pivot_table(index='elapsed_time',values=['cpu','mem'],aggfunc=sum).describe()"
   ]
  },
  {
   "cell_type": "markdown",
   "metadata": {},
   "source": [
    "## nfsiostat log"
   ]
  },
  {
   "cell_type": "code",
   "execution_count": null,
   "metadata": {
    "collapsed": true
   },
   "outputs": [],
   "source": [
    "nfs_stat = pd.read_csv('summary-nfsiostat.csv',parse_dates=[0])"
   ]
  },
  {
   "cell_type": "code",
   "execution_count": null,
   "metadata": {
    "collapsed": true
   },
   "outputs": [],
   "source": [
    "nfs_stat['time'] = pd.to_timedelta(nfs_stat['time'])"
   ]
  },
  {
   "cell_type": "markdown",
   "metadata": {},
   "source": [
    "### read/write throughput (kb/s)"
   ]
  },
  {
   "cell_type": "code",
   "execution_count": null,
   "metadata": {
    "scrolled": false
   },
   "outputs": [],
   "source": [
    "nfs_stat[nfs_stat['fs-path']=='/mp/nas1'].pivot_table(index='time',values=['read-kb/s','write-kb/s']).plot(alpha=0.5,figsize=(10,5))"
   ]
  },
  {
   "cell_type": "code",
   "execution_count": null,
   "metadata": {},
   "outputs": [],
   "source": [
    "nfs_stat[nfs_stat['fs-path']=='/mp/nas1'].pivot_table(index='time',values=['read-kb/s','write-kb/s'],aggfunc=sum).describe()"
   ]
  },
  {
   "cell_type": "markdown",
   "metadata": {},
   "source": [
    "### pages in readpages/writepages"
   ]
  },
  {
   "cell_type": "code",
   "execution_count": null,
   "metadata": {},
   "outputs": [],
   "source": [
    "nfs_stat[nfs_stat['fs-path']=='/mp/nas1'].pivot_table(index='time',values=['pages-in-readpages','pages-in-writepages']).plot(alpha=0.5,figsize=(10,5))"
   ]
  },
  {
   "cell_type": "markdown",
   "metadata": {},
   "source": [
    "## vmstat log"
   ]
  },
  {
   "cell_type": "code",
   "execution_count": null,
   "metadata": {
    "collapsed": true
   },
   "outputs": [],
   "source": [
    "vm_stat = pd.read_csv('summary-vmstat.csv',parse_dates=[0])"
   ]
  },
  {
   "cell_type": "code",
   "execution_count": null,
   "metadata": {
    "collapsed": true
   },
   "outputs": [],
   "source": [
    "vm_stat['time'] = pd.to_timedelta(vm_stat['time'])"
   ]
  },
  {
   "cell_type": "markdown",
   "metadata": {},
   "source": [
    "### block i/o"
   ]
  },
  {
   "cell_type": "code",
   "execution_count": null,
   "metadata": {
    "scrolled": false
   },
   "outputs": [],
   "source": [
    "vm_bio = vm_stat.pivot_table(index='time',values=['io-bi','io-bo'])\n",
    "fig = vm_bio.plot(alpha=0.5,figsize=(10,5))\n",
    "vm_bio.rolling(window=12,center=True).mean().plot(ax=fig)\n",
    "fig.set_ylabel('blocks/s')\n",
    "fig.legend(['io-bi','io-bo','SMA io-bi','SMA io-bo'])"
   ]
  },
  {
   "cell_type": "code",
   "execution_count": null,
   "metadata": {},
   "outputs": [],
   "source": [
    "vm_stat.pivot_table(index='time',values=['io-bi','io-bo']).describe()"
   ]
  },
  {
   "cell_type": "markdown",
   "metadata": {},
   "source": [
    "### cpu status"
   ]
  },
  {
   "cell_type": "code",
   "execution_count": null,
   "metadata": {
    "scrolled": false
   },
   "outputs": [],
   "source": [
    "fig = vm_stat.pivot_table(index='time',values=['cpu-us','cpu-sy','cpu-id','cpu-wa','cpu-st']).plot(alpha=0.5,figsize=(10,5))\n",
    "fig.set_ylabel('CPU usage (%)')"
   ]
  },
  {
   "cell_type": "code",
   "execution_count": null,
   "metadata": {
    "scrolled": true
   },
   "outputs": [],
   "source": [
    "vm_stat.pivot_table(index='time',values=['cpu-us','cpu-sy','cpu-id','cpu-wa','cpu-st']).describe()"
   ]
  },
  {
   "cell_type": "markdown",
   "metadata": {},
   "source": [
    "## iostat log"
   ]
  },
  {
   "cell_type": "code",
   "execution_count": null,
   "metadata": {
    "collapsed": true
   },
   "outputs": [],
   "source": [
    "io_stat = pd.read_csv('summary-iostat.csv',parse_dates=[0])"
   ]
  },
  {
   "cell_type": "code",
   "execution_count": null,
   "metadata": {
    "collapsed": true
   },
   "outputs": [],
   "source": [
    "io_stat['time'] = pd.to_timedelta(io_stat['time'])"
   ]
  },
  {
   "cell_type": "code",
   "execution_count": null,
   "metadata": {
    "collapsed": true
   },
   "outputs": [],
   "source": [
    "f = open('hostname.txt', 'r')\n",
    "hostname = f.read().rstrip()\n",
    "f.close()\n",
    "\n",
    "dev_name = 'nvme'\n",
    "if os.path.isfile('device.txt'):\n",
    "    f = open('device.txt', 'r')\n",
    "    dev_name = f.read().rstrip()\n",
    "    f.close()\n",
    "else:\n",
    "    if hostname == 'bonito':\n",
    "        dev_name = 'nvme0'\n",
    "    elif hostname == 'mackerel':\n",
    "        dev_name = 'nvme1'\n",
    "    elif hostname == 'tuna':\n",
    "        dev_name = 'nvme1'"
   ]
  },
  {
   "cell_type": "markdown",
   "metadata": {},
   "source": [
    "### device read/write (kB/s)"
   ]
  },
  {
   "cell_type": "code",
   "execution_count": null,
   "metadata": {
    "scrolled": true
   },
   "outputs": [],
   "source": [
    "dev_rw = io_stat[io_stat['device'].str.contains(dev_name)].pivot_table(index='time',values=['rkB/s','wkB/s'],aggfunc=sum)\n",
    "fig = dev_rw.plot(alpha=0.5,figsize=(10,5))\n",
    "dev_rw.rolling(window=12,center=True).mean().plot(ax=fig)\n",
    "fig.set_ylabel('kB/s')\n",
    "fig.legend(['rkB/s','wkB/s','SMA rkB/s','SMA wkB/s'])"
   ]
  },
  {
   "cell_type": "code",
   "execution_count": null,
   "metadata": {},
   "outputs": [],
   "source": [
    "dev_rw.describe()"
   ]
  },
  {
   "cell_type": "markdown",
   "metadata": {},
   "source": [
    "### device util (%)"
   ]
  },
  {
   "cell_type": "code",
   "execution_count": null,
   "metadata": {
    "scrolled": false
   },
   "outputs": [],
   "source": [
    "dev_util = io_stat[io_stat['device'].str.contains(dev_name)].pivot_table(index='time',values=['%util'],aggfunc=sum)\n",
    "fig = dev_util.plot(alpha=0.5,figsize=(10,5))\n",
    "dev_util.rolling(window=12,center=True).mean().plot(ax=fig)\n",
    "fig.set_ylabel('device [' + dev_name + '] util (%)')\n",
    "fig.legend(['%util','SMA %util'])"
   ]
  },
  {
   "cell_type": "code",
   "execution_count": null,
   "metadata": {},
   "outputs": [],
   "source": [
    "dev_util.describe()"
   ]
  },
  {
   "cell_type": "markdown",
   "metadata": {
    "collapsed": true
   },
   "source": [
    "## gpu log"
   ]
  },
  {
   "cell_type": "code",
   "execution_count": null,
   "metadata": {
    "collapsed": true
   },
   "outputs": [],
   "source": [
    "gpu_stat = None\n",
    "if os.path.exists('summary-gpu.csv'):\n",
    "    gpu_stat = pd.read_csv('summary-gpu.csv',parse_dates=[0])"
   ]
  },
  {
   "cell_type": "code",
   "execution_count": null,
   "metadata": {
    "collapsed": true
   },
   "outputs": [],
   "source": [
    "gpu_stat['time'] = pd.to_timedelta(gpu_stat['time'])"
   ]
  },
  {
   "cell_type": "code",
   "execution_count": null,
   "metadata": {
    "scrolled": false
   },
   "outputs": [],
   "source": [
    "if gpu_stat is not None:\n",
    "    gpu_util = gpu_stat.pivot_table(index='time',values=['utilization.gpu [%]','utilization.memory [%]'],aggfunc=sum)\n",
    "    fig = gpu_util.plot(alpha=0.5,figsize=(10,5))\n",
    "    gpu_util.rolling(window=10,center=True).mean().plot(ax=fig)\n",
    "    fig.set_ylabel('util (%)')\n",
    "    fig.legend(['gpu','gpu memory','SMA gpu','SMA gpu memory'])\n",
    "    \n",
    "    gpu_util_each = gpu_stat.pivot_table(index=['time'],columns=['index'],values=['utilization.gpu [%]','utilization.memory [%]']).fillna(0.0)\n",
    "    fig = gpu_util_each.plot(alpha=0.5,figsize=(10,5))\n",
    "    fig.set_ylabel('util (%)')"
   ]
  },
  {
   "cell_type": "code",
   "execution_count": null,
   "metadata": {},
   "outputs": [],
   "source": [
    "if gpu_stat is not None:\n",
    "    gpu_util = gpu_stat.pivot_table(index='time',values=['utilization.gpu [%]','utilization.memory [%]'],aggfunc=sum)\n",
    "    display(gpu_util.describe())"
   ]
  },
  {
   "cell_type": "code",
   "execution_count": null,
   "metadata": {
    "collapsed": true
   },
   "outputs": [],
   "source": []
  }
 ],
 "metadata": {
  "kernelspec": {
   "display_name": "Python 3",
   "language": "python",
   "name": "python3"
  },
  "language_info": {
   "codemirror_mode": {
    "name": "ipython",
    "version": 3
   },
   "file_extension": ".py",
   "mimetype": "text/x-python",
   "name": "python",
   "nbconvert_exporter": "python",
   "pygments_lexer": "ipython3",
   "version": "3.6.3"
  }
 },
 "nbformat": 4,
 "nbformat_minor": 2
}
